{
  "nbformat": 4,
  "nbformat_minor": 0,
  "metadata": {
    "colab": {
      "name": "LunarRockClassifier.ipynb",
      "provenance": [],
      "collapsed_sections": [],
      "machine_shape": "hm",
      "include_colab_link": true
    },
    "kernelspec": {
      "name": "python3",
      "display_name": "Python 3"
    }
  },
  "cells": [
    {
      "cell_type": "markdown",
      "metadata": {
        "id": "view-in-github",
        "colab_type": "text"
      },
      "source": [
        "<a href=\"https://colab.research.google.com/github/vector777-ai/DeepSpaceExoplanetHunting/blob/master/LunarRockClassifier.ipynb\" target=\"_parent\"><img src=\"https://colab.research.google.com/assets/colab-badge.svg\" alt=\"Open In Colab\"/></a>"
      ]
    },
    {
      "cell_type": "code",
      "metadata": {
        "id": "XWk8UE8fuNfE",
        "colab_type": "code",
        "colab": {}
      },
      "source": [
        "# Load the Drive helper and mount\n",
        "from google.colab import drive\n",
        "\n",
        "# This will prompt for authorization.\n",
        "drive.mount('/content/drive',force_remount=True)"
      ],
      "execution_count": 0,
      "outputs": []
    },
    {
      "cell_type": "markdown",
      "metadata": {
        "id": "-KIjqMJep6Iu",
        "colab_type": "text"
      },
      "source": [
        "Mounted at /content/drive"
      ]
    },
    {
      "cell_type": "code",
      "metadata": {
        "id": "HJ7nuL7zgO91",
        "colab_type": "code",
        "colab": {}
      },
      "source": [
        "cd drive"
      ],
      "execution_count": 0,
      "outputs": []
    },
    {
      "cell_type": "markdown",
      "metadata": {
        "id": "r3_Qqlgop_mA",
        "colab_type": "text"
      },
      "source": [
        "/content/drive"
      ]
    },
    {
      "cell_type": "code",
      "metadata": {
        "id": "uxBRQC8dgQ1p",
        "colab_type": "code",
        "colab": {}
      },
      "source": [
        "cd My Drive"
      ],
      "execution_count": 0,
      "outputs": []
    },
    {
      "cell_type": "markdown",
      "metadata": {
        "id": "DbF18bMRqH7T",
        "colab_type": "text"
      },
      "source": [
        "/content/drive/My Drive"
      ]
    },
    {
      "cell_type": "code",
      "metadata": {
        "id": "XyqLk4bXgShM",
        "colab_type": "code",
        "colab": {}
      },
      "source": [
        "cd LunarRockDataSet"
      ],
      "execution_count": 0,
      "outputs": []
    },
    {
      "cell_type": "markdown",
      "metadata": {
        "id": "2yA2EgxSqMOo",
        "colab_type": "text"
      },
      "source": [
        "/content/drive/My Drive/LunarRockDataSet"
      ]
    },
    {
      "cell_type": "code",
      "metadata": {
        "id": "waadGM_bgUz3",
        "colab_type": "code",
        "colab": {}
      },
      "source": [
        "import os\n",
        "import shutil\n",
        "import numpy as np\n",
        "import pandas as pd\n",
        "import tensorflow as tf\n",
        "import keras\n",
        "from keras import backend as K\n",
        "from keras.preprocessing.image import ImageDataGenerator\n",
        "from keras import layers\n",
        "from keras.layers import Input,Dense,Activation,ZeroPadding2D,BatchNormalization,Flatten,Conv2D\n",
        "from keras.layers import MaxPooling2D,Dropout,Lambda,Concatenate\n",
        "from keras.models import Model,Sequential\n",
        "from keras.optimizers import Adam\n",
        "K.clear_session()"
      ],
      "execution_count": 0,
      "outputs": []
    },
    {
      "cell_type": "markdown",
      "metadata": {
        "id": "lDcK2EBuqRn6",
        "colab_type": "text"
      },
      "source": [
        "Using TensorFlow backend."
      ]
    },
    {
      "cell_type": "code",
      "metadata": {
        "id": "cmLXgTqPgpWA",
        "colab_type": "code",
        "colab": {}
      },
      "source": [
        "train_minibatch_size=20\n",
        "dev_minibatch_size=10\n",
        "test_minibatch_size=25\n",
        "input_shape=(480,720,3)"
      ],
      "execution_count": 0,
      "outputs": []
    },
    {
      "cell_type": "code",
      "metadata": {
        "id": "ts9he3L0hEV7",
        "colab_type": "code",
        "colab": {}
      },
      "source": [
        "labels=[\"Large\",\"Small\"]\n",
        "train_batches=ImageDataGenerator(rescale=1./225).flow_from_directory(\n",
        "            directory='/content/drive/My Drive/LunarRockDataSet/TrainSet',\n",
        "            target_size=(480,720),\n",
        "            color_mode='rgb',\n",
        "            classes=labels,\n",
        "            batch_size=train_minibatch_size,\n",
        "            class_mode='categorical',\n",
        "            shuffle=True)"
      ],
      "execution_count": 0,
      "outputs": []
    },
    {
      "cell_type": "markdown",
      "metadata": {
        "id": "-2q3JeqEqUWO",
        "colab_type": "text"
      },
      "source": [
        "Found 7237 images belonging to 2 classes."
      ]
    },
    {
      "cell_type": "code",
      "metadata": {
        "id": "FkDliN_uhncA",
        "colab_type": "code",
        "colab": {}
      },
      "source": [
        "dev_batches=ImageDataGenerator(rescale=1./225).flow_from_directory(\n",
        "            directory='/content/drive/My Drive/LunarRockDataSet/DevSet',\n",
        "            target_size=(480,720),\n",
        "            color_mode='rgb',\n",
        "            classes=labels,\n",
        "            batch_size=dev_minibatch_size,\n",
        "            class_mode='categorical',\n",
        "            shuffle=True)"
      ],
      "execution_count": 0,
      "outputs": []
    },
    {
      "cell_type": "markdown",
      "metadata": {
        "id": "RYGLv2vRqXNU",
        "colab_type": "text"
      },
      "source": [
        "Found 2412 images belonging to 2 classes."
      ]
    },
    {
      "cell_type": "code",
      "metadata": {
        "id": "sbkHCgAUhcAx",
        "colab_type": "code",
        "colab": {}
      },
      "source": [
        "test_batches=ImageDataGenerator(rescale=1./225).flow_from_directory(\n",
        "            directory='/content/drive/My Drive/LunarRockDataSet/TestSet',\n",
        "            target_size=(480,720),\n",
        "            color_mode='rgb',\n",
        "            classes=labels,\n",
        "            batch_size=test_minibatch_size,\n",
        "            class_mode='categorical',\n",
        "            shuffle=True)"
      ],
      "execution_count": 0,
      "outputs": []
    },
    {
      "cell_type": "markdown",
      "metadata": {
        "id": "ucf1TpHSqZ4g",
        "colab_type": "text"
      },
      "source": [
        "Found 2410 images belonging to 2 classes."
      ]
    },
    {
      "cell_type": "code",
      "metadata": {
        "id": "cXXygomsieo4",
        "colab_type": "code",
        "colab": {}
      },
      "source": [
        "model = Sequential(name='forward_prop')\n",
        "model.add(Conv2D(32,kernel_size=(3,3),strides=(1,1),padding='same',input_shape=input_shape,name='conv1'))\n",
        "model.add(Conv2D(32,kernel_size=(3,3),strides=(1,1),padding='same',input_shape=input_shape,name='conv1.1'))\n",
        "model.add(MaxPooling2D((3,3),strides=2))\n",
        "model.add(Conv2D(64,kernel_size=(3,3),strides=(1,1),padding='same',name='conv2'))\n",
        "model.add(Conv2D(64,kernel_size=(3,3),strides=(1,1),padding='same',name='conv2.1'))\n",
        "model.add(MaxPooling2D((5,5),strides=2))\n",
        "model.add(Conv2D(128,kernel_size=(3,3),strides=(1,1),padding='same',name='conv3'))\n",
        "model.add(Conv2D(128,kernel_size=(3,3),strides=(1,1),padding='same',name='conv3.1'))\n",
        "model.add(Conv2D(128,kernel_size=(3,3),strides=(1,1),padding='same',name='conv3.2'))\n",
        "model.add(MaxPooling2D((7,7),strides=2))\n",
        "model.add(Conv2D(128,kernel_size=(3,3),strides=(1,1),padding='same',name='conv4'))\n",
        "model.add(Conv2D(128,kernel_size=(3,3),strides=(1,1),padding='same',name='conv4.1'))\n",
        "model.add(MaxPooling2D((3,3),strides=2))\n",
        "model.add(Conv2D(256,kernel_size=(3,3),strides=(1,1),padding='same',name='conv5'))\n",
        "model.add(Conv2D(256,kernel_size=(3,3),strides=(1,1),padding='same',name='conv5.1'))\n",
        "model.add(MaxPooling2D((3,3),strides=2))\n",
        "model.add(Conv2D(512,kernel_size=(3,3),strides=(1,1),padding='same',name='conv6'))\n",
        "model.add(MaxPooling2D((3,3),strides=2))\n",
        "model.add(Flatten())\n",
        "model.add(Dense(4096,activation='relu',name='fc0'))\n",
        "model.add(Dense(4096,activation='relu',name='fc1'))\n",
        "model.add(Dense(2,activation='sigmoid',name='fc2'))\n",
        "model.compile(Adam(lr=.0001),'categorical_crossentropy',metrics=['accuracy'])"
      ],
      "execution_count": 0,
      "outputs": []
    },
    {
      "cell_type": "code",
      "metadata": {
        "id": "0z78UP6OnYUT",
        "colab_type": "code",
        "outputId": "e268be4c-605e-49f8-ca1c-ae6cfbd7db64",
        "colab": {
          "base_uri": "https://localhost:8080/",
          "height": 920
        }
      },
      "source": [
        "model.summary()"
      ],
      "execution_count": 0,
      "outputs": [
        {
          "output_type": "stream",
          "text": [
            "Model: \"forward_prop\"\n",
            "_________________________________________________________________\n",
            "Layer (type)                 Output Shape              Param #   \n",
            "=================================================================\n",
            "conv1 (Conv2D)               (None, 480, 720, 32)      896       \n",
            "_________________________________________________________________\n",
            "conv1.1 (Conv2D)             (None, 480, 720, 32)      9248      \n",
            "_________________________________________________________________\n",
            "max_pooling2d_7 (MaxPooling2 (None, 239, 359, 32)      0         \n",
            "_________________________________________________________________\n",
            "conv2 (Conv2D)               (None, 239, 359, 64)      18496     \n",
            "_________________________________________________________________\n",
            "conv2.1 (Conv2D)             (None, 239, 359, 64)      36928     \n",
            "_________________________________________________________________\n",
            "max_pooling2d_8 (MaxPooling2 (None, 118, 178, 64)      0         \n",
            "_________________________________________________________________\n",
            "conv3 (Conv2D)               (None, 118, 178, 128)     73856     \n",
            "_________________________________________________________________\n",
            "conv3.1 (Conv2D)             (None, 118, 178, 128)     147584    \n",
            "_________________________________________________________________\n",
            "conv3.2 (Conv2D)             (None, 118, 178, 128)     147584    \n",
            "_________________________________________________________________\n",
            "max_pooling2d_9 (MaxPooling2 (None, 56, 86, 128)       0         \n",
            "_________________________________________________________________\n",
            "conv4 (Conv2D)               (None, 56, 86, 128)       147584    \n",
            "_________________________________________________________________\n",
            "conv4.1 (Conv2D)             (None, 56, 86, 128)       147584    \n",
            "_________________________________________________________________\n",
            "max_pooling2d_10 (MaxPooling (None, 27, 42, 128)       0         \n",
            "_________________________________________________________________\n",
            "conv5 (Conv2D)               (None, 27, 42, 256)       295168    \n",
            "_________________________________________________________________\n",
            "conv5.1 (Conv2D)             (None, 27, 42, 256)       590080    \n",
            "_________________________________________________________________\n",
            "max_pooling2d_11 (MaxPooling (None, 13, 20, 256)       0         \n",
            "_________________________________________________________________\n",
            "conv6 (Conv2D)               (None, 13, 20, 512)       1180160   \n",
            "_________________________________________________________________\n",
            "max_pooling2d_12 (MaxPooling (None, 6, 9, 512)         0         \n",
            "_________________________________________________________________\n",
            "flatten_2 (Flatten)          (None, 27648)             0         \n",
            "_________________________________________________________________\n",
            "fc0 (Dense)                  (None, 4096)              113250304 \n",
            "_________________________________________________________________\n",
            "fc1 (Dense)                  (None, 4096)              16781312  \n",
            "_________________________________________________________________\n",
            "fc2 (Dense)                  (None, 2)                 8194      \n",
            "=================================================================\n",
            "Total params: 132,834,978\n",
            "Trainable params: 132,834,978\n",
            "Non-trainable params: 0\n",
            "_________________________________________________________________\n"
          ],
          "name": "stdout"
        }
      ]
    },
    {
      "cell_type": "code",
      "metadata": {
        "id": "zJFmeTySsldn",
        "colab_type": "code",
        "outputId": "89aeda65-a43b-4438-c71b-668c99bd716f",
        "colab": {
          "base_uri": "https://localhost:8080/",
          "height": 555
        }
      },
      "source": [
        "model.fit_generator(train_batches, steps_per_epoch=20, validation_data=dev_batches, validation_steps=20, epochs=15, verbose=1)"
      ],
      "execution_count": 0,
      "outputs": [
        {
          "output_type": "stream",
          "text": [
            "Epoch 1/15\n",
            "20/20 [==============================] - 801s 40s/step - loss: 0.5577 - acc: 0.7125 - val_loss: 0.5466 - val_acc: 0.8000\n",
            "Epoch 2/15\n",
            "20/20 [==============================] - 784s 39s/step - loss: 0.4350 - acc: 0.8250 - val_loss: 0.2656 - val_acc: 0.9300\n",
            "Epoch 3/15\n",
            "20/20 [==============================] - 782s 39s/step - loss: 0.3021 - acc: 0.8925 - val_loss: 0.1709 - val_acc: 0.9450\n",
            "Epoch 4/15\n",
            "20/20 [==============================] - 814s 41s/step - loss: 0.3066 - acc: 0.9075 - val_loss: 0.2533 - val_acc: 0.8850\n",
            "Epoch 5/15\n",
            "20/20 [==============================] - 813s 41s/step - loss: 0.2098 - acc: 0.9225 - val_loss: 0.1529 - val_acc: 0.9250\n",
            "Epoch 6/15\n",
            "20/20 [==============================] - 792s 40s/step - loss: 0.1190 - acc: 0.9600 - val_loss: 0.0670 - val_acc: 0.9850\n",
            "Epoch 7/15\n",
            "20/20 [==============================] - 782s 39s/step - loss: 0.0783 - acc: 0.9750 - val_loss: 0.0546 - val_acc: 0.9800\n",
            "Epoch 8/15\n",
            "20/20 [==============================] - 800s 40s/step - loss: 0.1564 - acc: 0.9550 - val_loss: 0.0747 - val_acc: 0.9850\n",
            "Epoch 9/15\n",
            "20/20 [==============================] - 800s 40s/step - loss: 0.0449 - acc: 0.9875 - val_loss: 0.1245 - val_acc: 0.9750\n",
            "Epoch 10/15\n",
            "20/20 [==============================] - 798s 40s/step - loss: 0.0149 - acc: 0.9925 - val_loss: 0.0202 - val_acc: 0.9950\n",
            "Epoch 11/15\n",
            "20/20 [==============================] - 783s 39s/step - loss: 0.0315 - acc: 0.9875 - val_loss: 0.0065 - val_acc: 1.0000\n",
            "Epoch 12/15\n",
            "20/20 [==============================] - 784s 39s/step - loss: 0.1256 - acc: 0.9750 - val_loss: 0.1363 - val_acc: 0.9350\n",
            "Epoch 13/15\n",
            "20/20 [==============================] - 784s 39s/step - loss: 0.1248 - acc: 0.9750 - val_loss: 0.0149 - val_acc: 1.0000\n",
            "Epoch 14/15\n",
            "20/20 [==============================] - 778s 39s/step - loss: 0.0273 - acc: 0.9925 - val_loss: 0.0583 - val_acc: 0.9900\n",
            "Epoch 15/15\n",
            "20/20 [==============================] - 777s 39s/step - loss: 0.0172 - acc: 0.9925 - val_loss: 0.0206 - val_acc: 0.9850\n"
          ],
          "name": "stdout"
        },
        {
          "output_type": "execute_result",
          "data": {
            "text/plain": [
              "<keras.callbacks.History at 0x7f7cbeed27f0>"
            ]
          },
          "metadata": {
            "tags": []
          },
          "execution_count": 23
        }
      ]
    },
    {
      "cell_type": "markdown",
      "metadata": {
        "id": "KQ0Ibe6Rq4iA",
        "colab_type": "text"
      },
      "source": [
        "Epoch 1/15\n",
        "20/20 [==============================] - 801s 40s/step - loss: 0.5577 - acc: 0.7125 - val_loss: 0.5466 - val_acc: 0.8000\n",
        "\n",
        "Epoch 2/15\n",
        "20/20 [==============================] - 784s 39s/step - loss: 0.4350 - acc: 0.8250 - val_loss: 0.2656 - val_acc: 0.9300\n",
        "\n",
        "Epoch 3/15\n",
        "20/20 [==============================] - 782s 39s/step - loss: 0.3021 - acc: 0.8925 - val_loss: 0.1709 - val_acc: 0.9450\n",
        "\n",
        "Epoch 4/15\n",
        "20/20 [==============================] - 814s 41s/step - loss: 0.3066 - acc: 0.9075 - val_loss: 0.2533 - val_acc: 0.8850\n",
        "\n",
        "Epoch 5/15\n",
        "20/20 [==============================] - 813s 41s/step - loss: 0.2098 - acc: 0.9225 - val_loss: 0.1529 - val_acc: 0.9250\n",
        "\n",
        "Epoch 6/15\n",
        "20/20 [==============================] - 792s 40s/step - loss: 0.1190 - acc: 0.9600 - val_loss: 0.0670 - val_acc: 0.9850\n",
        "\n",
        "Epoch 7/15\n",
        "20/20 [==============================] - 782s 39s/step - loss: 0.0783 - acc: 0.9750 - val_loss: 0.0546 - val_acc: 0.9800\n",
        "\n",
        "Epoch 8/15\n",
        "20/20 [==============================] - 800s 40s/step - loss: 0.1564 - acc: 0.9550 - val_loss: 0.0747 - val_acc: 0.9850\n",
        "\n",
        "Epoch 9/15\n",
        "20/20 [==============================] - 800s 40s/step - loss: 0.0449 - acc: 0.9875 - val_loss: 0.1245 - val_acc: 0.9750\n",
        "\n",
        "Epoch 10/15\n",
        "20/20 [==============================] - 798s 40s/step - loss: 0.0149 - acc: 0.9925 - val_loss: 0.0202 - val_acc: 0.9950\n",
        "\n",
        "Epoch 11/15\n",
        "20/20 [==============================] - 783s 39s/step - loss: 0.0315 - acc: 0.9875 - val_loss: 0.0065 - val_acc: 1.0000\n",
        "\n",
        "Epoch 12/15\n",
        "20/20 [==============================] - 784s 39s/step - loss: 0.1256 - acc: 0.9750 - val_loss: 0.1363 - val_acc: 0.9350\n",
        "\n",
        "Epoch 13/15\n",
        "20/20 [==============================] - 784s 39s/step - loss: 0.1248 - acc: 0.9750 - val_loss: 0.0149 - val_acc: 1.0000\n",
        "\n",
        "Epoch 14/15\n",
        "20/20 [==============================] - 778s 39s/step - loss: 0.0273 - acc: 0.9925 - val_loss: 0.0583 - val_acc: 0.9900\n",
        "\n",
        "Epoch 15/15\n",
        "20/20 [==============================] - 777s 39s/step - loss: 0.0172 - acc: 0.9925 - val_loss: 0.0206 - val_acc: 0.9850\n",
        "\n",
        "\n",
        "<keras.callbacks.History at 0x7f7cbeed27f0>"
      ]
    },
    {
      "cell_type": "code",
      "metadata": {
        "id": "tM8LTcDBld0j",
        "colab_type": "code",
        "colab": {}
      },
      "source": [
        "train_acc = model.evaluate_generator(train_batches, steps=1, verbose=0)\n",
        "print(\"Train Accuracy: \"+str(train_acc[1]))"
      ],
      "execution_count": 0,
      "outputs": []
    },
    {
      "cell_type": "markdown",
      "metadata": {
        "id": "QiZ0-amIraz7",
        "colab_type": "text"
      },
      "source": [
        "Train Accuracy: 1.0"
      ]
    },
    {
      "cell_type": "code",
      "metadata": {
        "id": "RGyIGOMC3SW6",
        "colab_type": "code",
        "colab": {}
      },
      "source": [
        "dev_acc = model.evaluate_generator(dev_batches, steps=1, verbose=0)\n",
        "print(\"Dev Accuracy: \"+str(dev_acc[1]))"
      ],
      "execution_count": 0,
      "outputs": []
    },
    {
      "cell_type": "markdown",
      "metadata": {
        "id": "e1J1Lo61rmmR",
        "colab_type": "text"
      },
      "source": [
        "Dev Accuracy: 1.0"
      ]
    },
    {
      "cell_type": "code",
      "metadata": {
        "id": "0qsJ8lIrtfLT",
        "colab_type": "code",
        "colab": {}
      },
      "source": [
        "test_acc = model.evaluate_generator(test_batches, steps=1, verbose=0)\n",
        "print(\"Test Accuracy: \"+str(test_acc[1]))"
      ],
      "execution_count": 0,
      "outputs": []
    },
    {
      "cell_type": "markdown",
      "metadata": {
        "id": "IzTyGQInrrer",
        "colab_type": "text"
      },
      "source": [
        "Test Accuracy: 0.9599999785423279"
      ]
    },
    {
      "cell_type": "code",
      "metadata": {
        "id": "pjs8v8MVlnnJ",
        "colab_type": "code",
        "colab": {}
      },
      "source": [
        "model_json = model.to_json()\n",
        "with open(\"model.json\", \"w\") as json_file:\n",
        "    json_file.write(model_json)\n",
        "# serialize weights to HDF5\n",
        "model.save_weights(\"model.h5\")\n",
        "print(\"Saved model to disk\")"
      ],
      "execution_count": 0,
      "outputs": []
    },
    {
      "cell_type": "markdown",
      "metadata": {
        "id": "Wz5kgSFarwhP",
        "colab_type": "text"
      },
      "source": [
        "Saved model to disk"
      ]
    }
  ]
}