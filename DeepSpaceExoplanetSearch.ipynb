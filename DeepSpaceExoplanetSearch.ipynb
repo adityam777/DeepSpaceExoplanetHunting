{
  "nbformat": 4,
  "nbformat_minor": 0,
  "metadata": {
    "colab": {
      "name": "DeepSpaceExoplanetHunting",
      "provenance": [],
      "include_colab_link": true
    },
    "kernelspec": {
      "name": "python3",
      "display_name": "Python 3"
    }
  },
  "cells": [
    {
      "cell_type": "markdown",
      "metadata": {
        "id": "view-in-github",
        "colab_type": "text"
      },
      "source": [
        "<a href=\"https://colab.research.google.com/github/vector777-ai/DeepSpaceExoplanetHunting/blob/master/DeepSpaceExoplanetSearch.ipynb\" target=\"_parent\"><img src=\"https://colab.research.google.com/assets/colab-badge.svg\" alt=\"Open In Colab\"/></a>"
      ]
    },
    {
      "cell_type": "code",
      "metadata": {
        "id": "BIPih_GQ-5cB",
        "colab_type": "code",
        "outputId": "4954aa9b-4975-4f5c-9898-0ef90e6cb053",
        "colab": {
          "base_uri": "https://localhost:8080/",
          "height": 124
        }
      },
      "source": [
        "# Load the Drive helper and mount\n",
        "from google.colab import drive\n",
        "\n",
        "# This will prompt for authorization.\n",
        "drive.mount('/content/drive',force_remount=True)"
      ],
      "execution_count": 0,
      "outputs": [
        {
          "output_type": "stream",
          "text": [
            "Go to this URL in a browser: https://accounts.google.com/o/oauth2/auth?client_id=947318989803-6bn6qk8qdgf4n4g3pfee6491hc0brc4i.apps.googleusercontent.com&redirect_uri=urn%3Aietf%3Awg%3Aoauth%3A2.0%3Aoob&scope=email%20https%3A%2F%2Fwww.googleapis.com%2Fauth%2Fdocs.test%20https%3A%2F%2Fwww.googleapis.com%2Fauth%2Fdrive%20https%3A%2F%2Fwww.googleapis.com%2Fauth%2Fdrive.photos.readonly%20https%3A%2F%2Fwww.googleapis.com%2Fauth%2Fpeopleapi.readonly&response_type=code\n",
            "\n",
            "Enter your authorization code:\n",
            "··········\n",
            "Mounted at /content/drive\n"
          ],
          "name": "stdout"
        }
      ]
    },
    {
      "cell_type": "code",
      "metadata": {
        "colab_type": "code",
        "outputId": "b42b1c87-b715-4ee8-f674-b20af950d477",
        "id": "3vTJQDTBZXk7",
        "colab": {
          "base_uri": "https://localhost:8080/",
          "height": 34
        }
      },
      "source": [
        "cd drive"
      ],
      "execution_count": 0,
      "outputs": [
        {
          "output_type": "stream",
          "text": [
            "/content/drive\n"
          ],
          "name": "stdout"
        }
      ]
    },
    {
      "cell_type": "code",
      "metadata": {
        "colab_type": "code",
        "outputId": "07aca8b6-e9e7-488b-d13a-fd03f822ea47",
        "id": "NNmh6IKqZW4N",
        "colab": {
          "base_uri": "https://localhost:8080/",
          "height": 34
        }
      },
      "source": [
        "cd My Drive"
      ],
      "execution_count": 0,
      "outputs": [
        {
          "output_type": "stream",
          "text": [
            "/content/drive/My Drive\n"
          ],
          "name": "stdout"
        }
      ]
    },
    {
      "cell_type": "code",
      "metadata": {
        "colab_type": "code",
        "outputId": "84291220-ac58-403b-ac49-e908bd80f505",
        "id": "pJlqPj93ZWOz",
        "colab": {
          "base_uri": "https://localhost:8080/",
          "height": 34
        }
      },
      "source": [
        "cd ExoPlanetData"
      ],
      "execution_count": 0,
      "outputs": [
        {
          "output_type": "stream",
          "text": [
            "/content/drive/My Drive/ExoPlanetData\n"
          ],
          "name": "stdout"
        }
      ]
    },
    {
      "cell_type": "code",
      "metadata": {
        "colab_type": "code",
        "id": "k44af5IUZVIb",
        "colab": {}
      },
      "source": [
        "import numpy as np\n",
        "import pandas as pd"
      ],
      "execution_count": 0,
      "outputs": []
    },
    {
      "cell_type": "code",
      "metadata": {
        "colab_type": "code",
        "id": "y96_tZmHZUVh",
        "colab": {}
      },
      "source": [
        "def initialize_parameters(layer_dims):\n",
        "    parameters={}\n",
        "    L=len(layer_dims)\n",
        "    for l in range(1,L):\n",
        "        parameters[\"W\"+str(l)]=np.random.randn(layer_dims[l],layer_dims[l-1])*0.01\n",
        "        parameters[\"b\"+str(l)]=np.random.randn(layer_dims[l],1)*0.01\n",
        "    return parameters"
      ],
      "execution_count": 0,
      "outputs": []
    },
    {
      "cell_type": "code",
      "metadata": {
        "colab_type": "code",
        "id": "_56gRMg8ZTu-",
        "colab": {}
      },
      "source": [
        "def linear_forward(A_prev,W,b):\n",
        "    Z=np.dot(W,A_prev)+b\n",
        "    cache=(A_prev,W,b)\n",
        "    return Z,cache"
      ],
      "execution_count": 0,
      "outputs": []
    },
    {
      "cell_type": "code",
      "metadata": {
        "colab_type": "code",
        "id": "a2mjG3jJZTMe",
        "colab": {}
      },
      "source": [
        "def linear_activation_forward(A_prev,W,b,activation):\n",
        "    (activation_cache,linear_cache)=linear_forward(A_prev,W,b)\n",
        "    if activation == \"tanh\":\n",
        "        A=np.tanh(activation_cache)\n",
        "    elif activation == \"sigmoid\":\n",
        "        A=1/(1+np.exp(-activation_cache))\n",
        "    cache=(linear_cache,activation_cache)\n",
        "    return A,cache"
      ],
      "execution_count": 0,
      "outputs": []
    },
    {
      "cell_type": "code",
      "metadata": {
        "colab_type": "code",
        "id": "5A_zIYSIZSbQ",
        "colab": {}
      },
      "source": [
        "def Linear_model_forward(X,parameters):\n",
        "    L=len(parameters)//2\n",
        "    caches=[]\n",
        "    A=X\n",
        "    for l in range(1,L):\n",
        "        A_prev=A\n",
        "        A,cache=linear_activation_forward(A_prev,parameters[\"W\"+str(l)],parameters[\"b\"+str(l)],\"tanh\")\n",
        "        caches.append(cache)\n",
        "    A,cache=linear_activation_forward(A,parameters[\"W\"+str(L)],parameters[\"b\"+str(L)],\"sigmoid\")\n",
        "    caches.append(cache)\n",
        "    return A,caches"
      ],
      "execution_count": 0,
      "outputs": []
    },
    {
      "cell_type": "code",
      "metadata": {
        "colab_type": "code",
        "id": "5ngrdw3VZRdL",
        "colab": {}
      },
      "source": [
        "def compute_cost(Y,AL):\n",
        "    m=Y.shape[1]\n",
        "    cost=-np.sum((Y*(np.log(AL)))+((1-Y)*np.log(1-AL)))/m\n",
        "    cost=np.squeeze(cost)\n",
        "    return cost"
      ],
      "execution_count": 0,
      "outputs": []
    },
    {
      "cell_type": "code",
      "metadata": {
        "colab_type": "code",
        "id": "BLySZeQYZQct",
        "colab": {}
      },
      "source": [
        "def linear_backward(dZ,cache):\n",
        "    A_prev,W,b=cache\n",
        "    m=A_prev.shape[1]\n",
        "    dW=np.dot(dZ,A_prev.T)/m\n",
        "    db=np.sum(dZ,axis=1,keepdims=True)/m\n",
        "    dA_prev=np.dot(W.T,dZ)\n",
        "    return dA_prev,dW,db"
      ],
      "execution_count": 0,
      "outputs": []
    },
    {
      "cell_type": "code",
      "metadata": {
        "colab_type": "code",
        "id": "M3Mn8H2NZPu8",
        "colab": {}
      },
      "source": [
        "def linear_activation_backward(dA,cache,activation):\n",
        "    (linear_cache,activation_cache)=cache\n",
        "    Z=activation_cache\n",
        "    if activation == \"tanh\":\n",
        "        dZ=1-(np.tanh(Z)**2)\n",
        "    elif activation == \"sigmoid\":\n",
        "        dZ=((dA)*(np.exp(-Z)/((1+np.exp(-Z))**2)))\n",
        "    dA_prev,dW,db=linear_backward(dZ,linear_cache)\n",
        "    return dA_prev,dW,db"
      ],
      "execution_count": 0,
      "outputs": []
    },
    {
      "cell_type": "code",
      "metadata": {
        "colab_type": "code",
        "id": "qL80hzI7ZPDi",
        "colab": {}
      },
      "source": [
        "def Linear_model_backward(Y,AL,parameters,caches):\n",
        "    m=Y.shape[1]\n",
        "    L=len(parameters)//2\n",
        "    grads={}\n",
        "    dAL=-(np.divide(Y,AL)-np.divide((1-Y),(1-AL)))\n",
        "    curr_cache=caches[L-1]\n",
        "    grads[\"dA\"+str(L-1)],grads[\"dW\"+str(L)],grads[\"db\"+str(L)]=linear_activation_backward(dAL,curr_cache,\"sigmoid\")\n",
        "    for l in reversed(range(L-1)):\n",
        "        curr_cache=caches[l]\n",
        "        grads[\"dA\"+str(l)],grads[\"dW\"+str(l+1)],grads[\"db\"+str(l+1)]=linear_activation_backward(grads[\"dA\"+str(l+1)],curr_cache,\"tanh\")\n",
        "    return grads"
      ],
      "execution_count": 0,
      "outputs": []
    },
    {
      "cell_type": "code",
      "metadata": {
        "colab_type": "code",
        "id": "tV5ycEKfZOYq",
        "colab": {}
      },
      "source": [
        "def update_parameters(parameters,grads,learning_rate=0.01):\n",
        "    L=len(parameters)//2\n",
        "    for l in range(1,L+1):\n",
        "        parameters[\"W\"+str(l)]=parameters[\"W\"+str(l)]-(learning_rate*grads[\"dW\"+str(l)])\n",
        "        parameters[\"b\"+str(l)]=parameters[\"b\"+str(l)]-(learning_rate*grads[\"db\"+str(l)])\n",
        "    return parameters"
      ],
      "execution_count": 0,
      "outputs": []
    },
    {
      "cell_type": "code",
      "metadata": {
        "colab_type": "code",
        "id": "iPm-NcmlZNrH",
        "colab": {}
      },
      "source": [
        "def compute_accuracy(Y,AL):\n",
        "    m=Y.shape[1]\n",
        "    AL_temp=1.0*(AL>=0.5)\n",
        "    diff=1.0*(Y==AL_temp)\n",
        "    acc=np.sum(diff)/m\n",
        "    acc=np.squeeze(acc)\n",
        "    return acc"
      ],
      "execution_count": 0,
      "outputs": []
    },
    {
      "cell_type": "code",
      "metadata": {
        "colab_type": "code",
        "id": "cU6JMk4XZM7l",
        "colab": {}
      },
      "source": [
        "def Model():\n",
        "    #Data Load\n",
        "    train_data=pd.read_csv(\"./exoTrain.csv\")\n",
        "  \n",
        "    Y_train=np.zeros((1,5087))\n",
        "    Y_train[0]=train_data[\"LABEL\"].T-1\n",
        "  \n",
        "    train_data=train_data.drop(\"LABEL\",axis=1)\n",
        "  \n",
        "    X_train=np.zeros((3197,5087))\n",
        "    X_train=train_data.as_matrix().T\n",
        "    \n",
        "    #Hyperparameter tuning\n",
        "    layer_dims=[3197,64,64,1]\n",
        "    learning_rate=0.01\n",
        "    epoches=1400\n",
        "    \n",
        "    parameters=initialize_parameters(layer_dims)\n",
        "    for e in range(1,epoches+1):\n",
        "        AL,caches=Linear_model_forward(X_train,parameters)\n",
        "        cost=compute_cost(Y_train,AL)\n",
        "        if e%100 == 0:\n",
        "            acc=compute_accuracy(Y_train,AL)\n",
        "            print(\"Cost at epoch \"+str(e)+\": \"+str(cost)+\"\\t=========\\tAcc: \"+str(acc))\n",
        "        grads=Linear_model_backward(Y_train,AL,parameters,caches)\n",
        "        parameters=update_parameters(parameters,grads,learning_rate)\n",
        "    train_acc=compute_accuracy(Y_train,AL)\n",
        "    print(\"Training Accuracy: \"+str(train_acc))\n",
        "    return parameters"
      ],
      "execution_count": 0,
      "outputs": []
    },
    {
      "cell_type": "code",
      "metadata": {
        "colab_type": "code",
        "id": "3wLW17KpZMWa",
        "colab": {}
      },
      "source": [
        "def predict():\n",
        "    parameters=Model()\n",
        "    test_data=pd.read_csv(\"./exoTest.csv\")\n",
        "  \n",
        "    Y_test=np.zeros((1,570))\n",
        "    Y_test[0]=test_data[\"LABEL\"].T-1\n",
        "  \n",
        "    test_data=test_data.drop(\"LABEL\",axis=1)\n",
        "  \n",
        "    X_test=np.zeros((3197,570))\n",
        "    X_test=test_data.as_matrix().T\n",
        "    Y_hat,caches=Linear_model_forward(X_test,parameters)\n",
        "    test_acc=compute_accuracy(Y_test,Y_hat)\n",
        "    return test_acc"
      ],
      "execution_count": 0,
      "outputs": []
    },
    {
      "cell_type": "code",
      "metadata": {
        "colab_type": "code",
        "outputId": "17479ddb-2839-49e8-9e05-a75ea83d9655",
        "id": "6OjFzeWpZLBU",
        "colab": {
          "base_uri": "https://localhost:8080/",
          "height": 350
        }
      },
      "source": [
        "test_acc=predict()\n",
        "print(\"Test Accuracy: \"+str(test_acc))"
      ],
      "execution_count": 0,
      "outputs": [
        {
          "output_type": "stream",
          "text": [
            "/usr/local/lib/python3.6/dist-packages/ipykernel_launcher.py:11: FutureWarning: Method .as_matrix will be removed in a future version. Use .values instead.\n",
            "  # This is added back by InteractiveShellApp.init_path()\n"
          ],
          "name": "stderr"
        },
        {
          "output_type": "stream",
          "text": [
            "Cost at epoch 100: 0.2743854669161055\t=========\tAcc: 0.8954196972675447\n",
            "Cost at epoch 200: 0.22677202806794272\t=========\tAcc: 0.9131118537448398\n",
            "Cost at epoch 300: 0.19646323483868128\t=========\tAcc: 0.9225476705327305\n",
            "Cost at epoch 400: 0.17233380628750405\t=========\tAcc: 0.931393748771378\n",
            "Cost at epoch 500: 0.15415866257359556\t=========\tAcc: 0.9380774523294673\n",
            "Cost at epoch 600: 0.13915386021825912\t=========\tAcc: 0.942991940239827\n",
            "Cost at epoch 700: 0.12215447321318716\t=========\tAcc: 0.9484961666994299\n",
            "Cost at epoch 800: 0.10338023279276211\t=========\tAcc: 0.9549832907411048\n",
            "Cost at epoch 900: 0.08010759935137986\t=========\tAcc: 0.9644191075289955\n",
            "Cost at epoch 1000: 0.05679411044842738\t=========\tAcc: 0.9919402398270101\n",
            "Cost at epoch 1100: 0.0463408543452788\t=========\tAcc: 0.9927265578926676\n",
            "Cost at epoch 1200: 0.04244167495381726\t=========\tAcc: 0.9927265578926676\n",
            "Cost at epoch 1300: 0.04122213417122483\t=========\tAcc: 0.9927265578926676\n",
            "Cost at epoch 1400: 0.04090588173818346\t=========\tAcc: 0.9927265578926676\n",
            "Training Accuracy: 0.9927265578926676\n",
            "Test Accuracy: 0.9912280701754386\n"
          ],
          "name": "stdout"
        }
      ]
    },
    {
      "cell_type": "code",
      "metadata": {
        "id": "QvHKYHh7YkjU",
        "colab_type": "code",
        "colab": {}
      },
      "source": [
        ""
      ],
      "execution_count": 0,
      "outputs": []
    }
  ]
}